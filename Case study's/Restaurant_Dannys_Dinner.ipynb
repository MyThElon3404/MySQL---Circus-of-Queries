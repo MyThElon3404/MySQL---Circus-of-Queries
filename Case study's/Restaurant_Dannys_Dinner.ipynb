{
 "cells": [
  {
   "cell_type": "markdown",
   "metadata": {
    "application/vnd.databricks.v1+cell": {
     "cellMetadata": {},
     "inputWidgets": {},
     "nuid": "e9b450c2-4a4d-47a1-b895-114adeb13bfc",
     "showTitle": false,
     "title": ""
    }
   },
   "source": [
    "# Problem Statement\n",
    "## -----------------------------------------------------------------------------------------------\n",
    "###                 Danny wants to use the data to answer a few simple questions about his customers, especially about their visiting patterns, how much money they’ve spent and also which menu items are their favourite. Having this deeper connection with his customers will help him deliver a better and more personalised experience for his loyal customers.\n",
    "\n",
    "###                 He plans on using these insights to help him decide whether he should expand the existing customer loyalty program - additionally he needs help to generate some basic datasets so his team can easily inspect the data without needing to use SQL."
   ]
  },
  {
   "cell_type": "code",
   "execution_count": 0,
   "metadata": {
    "application/vnd.databricks.v1+cell": {
     "cellMetadata": {
      "byteLimit": 2048000,
      "rowLimit": 10000
     },
     "inputWidgets": {},
     "nuid": "d0fd1ad1-098c-4572-aab0-3ab2e4fedb5d",
     "showTitle": false,
     "title": ""
    }
   },
   "outputs": [
    {
     "output_type": "stream",
     "name": "stdout",
     "output_type": "stream",
     "text": [
      "<pyspark.sql.session.SparkSession object at 0x7f2e8e0a5000>\n"
     ]
    }
   ],
   "source": [
    "# creating a spark session to get started with our spark jobs\n",
    "\n",
    "import pyspark\n",
    "from pyspark.sql import SparkSession\n",
    "from pyspark.sql.functions import *\n",
    "from pyspark.sql.types import *\n",
    "\n",
    "dd_ss = SparkSession.builder.appName(\"Restaurant_Dannys_Dinner\").getOrCreate()\n",
    "print(dd_ss)"
   ]
  },
  {
   "cell_type": "code",
   "execution_count": 0,
   "metadata": {
    "application/vnd.databricks.v1+cell": {
     "cellMetadata": {
      "byteLimit": 2048000,
      "rowLimit": 10000
     },
     "inputWidgets": {},
     "nuid": "f6da4845-1dac-4cef-84c9-ca24f4db06e4",
     "showTitle": false,
     "title": ""
    }
   },
   "outputs": [
    {
     "output_type": "stream",
     "name": "stdout",
     "output_type": "stream",
     "text": [
      "+-----------+----------+----------+\n|customer_id|order_date|product_id|\n+-----------+----------+----------+\n|          A|2021-01-01|         1|\n|          A|2021-01-01|         2|\n|          A|2021-01-07|         2|\n|          A|2021-01-10|         3|\n|          A|2021-01-11|         3|\n|          A|2021-01-11|         3|\n|          B|2021-01-01|         2|\n|          B|2021-01-02|         2|\n|          B|2021-01-04|         1|\n|          B|2021-01-11|         1|\n+-----------+----------+----------+\nonly showing top 10 rows\n\nroot\n |-- customer_id: string (nullable = true)\n |-- order_date: date (nullable = true)\n |-- product_id: string (nullable = true)\n\n"
     ]
    }
   ],
   "source": [
    "# creating a sales dataframe and load data into it\n",
    "\n",
    "sales_col = StructType([\n",
    "    StructField(\"customer_id\", StringType(), True),\n",
    "    StructField(\"order_date\", DateType(), True),\n",
    "    StructField(\"product_id\", StringType(), True)\n",
    "])\n",
    "\n",
    "sales_df = dd_ss.read.format(\"csv\")\\\n",
    "    .option(\"inferschema\", True)\\\n",
    "    .schema(sales_col)\\\n",
    "    .load(\"/FileStore/tables/pyspark/Sales_danny_s_dinner.csv\")\n",
    "    \n",
    "sales_df.show(10)\n",
    "sales_df.printSchema()"
   ]
  },
  {
   "cell_type": "code",
   "execution_count": 0,
   "metadata": {
    "application/vnd.databricks.v1+cell": {
     "cellMetadata": {
      "byteLimit": 2048000,
      "rowLimit": 10000
     },
     "inputWidgets": {},
     "nuid": "b16b65ca-59ec-40a8-8c47-3c1a2bc2d04c",
     "showTitle": false,
     "title": ""
    }
   },
   "outputs": [
    {
     "output_type": "stream",
     "name": "stdout",
     "output_type": "stream",
     "text": [
      "+-----------+----------+----------+\n|customer_id|order_date|product_id|\n+-----------+----------+----------+\n|          A|2021-01-01|         1|\n|          A|2021-01-01|         2|\n|          A|2021-01-07|         2|\n|          A|2021-01-10|         3|\n|          A|2021-01-11|         3|\n|          A|2021-01-11|         3|\n|          B|2021-01-01|         2|\n|          B|2021-01-02|         2|\n|          B|2021-01-04|         1|\n|          B|2021-01-11|         1|\n+-----------+----------+----------+\nonly showing top 10 rows\n\nroot\n |-- customer_id: string (nullable = true)\n |-- order_date: date (nullable = true)\n |-- product_id: integer (nullable = true)\n\n"
     ]
    }
   ],
   "source": [
    "# you can see in our output we get product_id as String\n",
    "# so need to fix this\n",
    "sales_df = sales_df.withColumn(\"product_id\", col(\"product_id\").cast(IntegerType()))\n",
    "sales_df.show(10)\n",
    "sales_df.printSchema()"
   ]
  },
  {
   "cell_type": "code",
   "execution_count": 0,
   "metadata": {
    "application/vnd.databricks.v1+cell": {
     "cellMetadata": {
      "byteLimit": 2048000,
      "rowLimit": 10000
     },
     "inputWidgets": {},
     "nuid": "9c97c03a-7e66-4a81-9006-2058ca70ef4c",
     "showTitle": false,
     "title": ""
    }
   },
   "outputs": [
    {
     "output_type": "stream",
     "name": "stdout",
     "output_type": "stream",
     "text": [
      "+----------+------------+-----+\n|product_id|product_name|price|\n+----------+------------+-----+\n|         1|       sushi|   10|\n|         2|       curry|   15|\n|         3|       ramen|   12|\n+----------+------------+-----+\n\nroot\n |-- product_id: integer (nullable = true)\n |-- product_name: string (nullable = true)\n |-- price: integer (nullable = true)\n\n"
     ]
    }
   ],
   "source": [
    "# creating remaining dataframes and load data\n",
    "\n",
    "menu_col = StructType([\n",
    "    StructField(\"product_id\", IntegerType(), True),\n",
    "    StructField(\"product_name\", StringType(), True),\n",
    "    StructField(\"price\", StringType(), True)\n",
    "])\n",
    "\n",
    "menu_df = dd_ss.read.format(\"csv\")\\\n",
    "    .option(\"inferschema\", True)\\\n",
    "    .schema(menu_col)\\\n",
    "    .load(\"/FileStore/tables/pyspark/Menu_danny_s_dinner.csv\")\n",
    "\n",
    "menu_df = menu_df.withColumn(\"price\", col(\"price\").cast(IntegerType()))\n",
    "    \n",
    "menu_df.show()\n",
    "menu_df.printSchema()"
   ]
  },
  {
   "cell_type": "code",
   "execution_count": 0,
   "metadata": {
    "application/vnd.databricks.v1+cell": {
     "cellMetadata": {
      "byteLimit": 2048000,
      "rowLimit": 10000
     },
     "inputWidgets": {},
     "nuid": "cb912a60-66ac-45ec-9c0b-4fa4d7bf28b3",
     "showTitle": false,
     "title": ""
    }
   },
   "outputs": [
    {
     "output_type": "stream",
     "name": "stdout",
     "output_type": "stream",
     "text": [
      "+-----------+----------+\n|customer_id| join_date|\n+-----------+----------+\n|          A|2021-01-07|\n|          B|2021-01-09|\n+-----------+----------+\n\nroot\n |-- customer_id: string (nullable = true)\n |-- join_date: date (nullable = true)\n\n"
     ]
    }
   ],
   "source": [
    "member_col = StructType([\n",
    "    StructField(\"customer_id\", StringType(), True),\n",
    "    StructField(\"join_date\", DateType(), True),\n",
    "])\n",
    "\n",
    "member_df = dd_ss.read.format(\"csv\")\\\n",
    "    .option(\"inferschema\", True)\\\n",
    "    .schema(member_col)\\\n",
    "    .load(\"/FileStore/tables/pyspark/Member_danny_s_dinner.csv\")\n",
    "    \n",
    "member_df.show()\n",
    "member_df.printSchema()"
   ]
  },
  {
   "cell_type": "code",
   "execution_count": 0,
   "metadata": {
    "application/vnd.databricks.v1+cell": {
     "cellMetadata": {
      "byteLimit": 2048000,
      "rowLimit": 10000
     },
     "inputWidgets": {},
     "nuid": "defccf44-f505-4603-bde6-4b949c08ca5d",
     "showTitle": false,
     "title": ""
    }
   },
   "outputs": [],
   "source": [
    "sales_df.createOrReplaceTempView(\"sales_tb\")\n",
    "menu_df.createOrReplaceTempView(\"menu_tb\")\n",
    "member_df.createOrReplaceTempView(\"menu_tb\")"
   ]
  },
  {
   "cell_type": "code",
   "execution_count": 0,
   "metadata": {
    "application/vnd.databricks.v1+cell": {
     "cellMetadata": {
      "byteLimit": 2048000,
      "rowLimit": 10000
     },
     "inputWidgets": {},
     "nuid": "f78383ff-9b78-4998-9ef4-c4703579054e",
     "showTitle": false,
     "title": ""
    }
   },
   "outputs": [
    {
     "output_type": "stream",
     "name": "stdout",
     "output_type": "stream",
     "text": [
      "+-----------+----------+----------+\n|customer_id|order_date|product_id|\n+-----------+----------+----------+\n|          A|2021-01-01|         1|\n|          A|2021-01-01|         2|\n+-----------+----------+----------+\nonly showing top 2 rows\n\n+----------+------------+-----+\n|product_id|product_name|price|\n+----------+------------+-----+\n|         1|       sushi|   10|\n|         2|       curry|   15|\n+----------+------------+-----+\nonly showing top 2 rows\n\n+-----------+----------+\n|customer_id| join_date|\n+-----------+----------+\n|          A|2021-01-07|\n|          B|2021-01-09|\n+-----------+----------+\n\n"
     ]
    }
   ],
   "source": [
    "dd_ss.sql(\"select * from sales_tb limit 10\").show(2)\n",
    "dd_ss.sql(\"select * from menu_tb\").show(2)\n",
    "dd_ss.sql(\"select * from member_tb\").show(2)"
   ]
  },
  {
   "cell_type": "markdown",
   "metadata": {
    "application/vnd.databricks.v1+cell": {
     "cellMetadata": {},
     "inputWidgets": {},
     "nuid": "98226978-5f31-4049-9ec6-51657f0277c3",
     "showTitle": false,
     "title": ""
    }
   },
   "source": [
    "#Questions"
   ]
  },
  {
   "cell_type": "markdown",
   "metadata": {
    "application/vnd.databricks.v1+cell": {
     "cellMetadata": {},
     "inputWidgets": {},
     "nuid": "897d399b-3662-4711-8823-eb72c6213fff",
     "showTitle": false,
     "title": ""
    }
   },
   "source": [
    "## 1. What is the total amount each customer spent at the restaurant?"
   ]
  },
  {
   "cell_type": "code",
   "execution_count": 0,
   "metadata": {
    "application/vnd.databricks.v1+cell": {
     "cellMetadata": {
      "byteLimit": 2048000,
      "rowLimit": 10000
     },
     "inputWidgets": {},
     "nuid": "2b1c1681-8ffa-4bc6-ad5d-57cb89ab0b83",
     "showTitle": false,
     "title": ""
    }
   },
   "outputs": [
    {
     "output_type": "stream",
     "name": "stdout",
     "output_type": "stream",
     "text": [
      "+-----------+------------+\n|customer_id|spend_amount|\n+-----------+------------+\n|          A|          76|\n|          B|          74|\n|          C|          36|\n+-----------+------------+\n\n"
     ]
    }
   ],
   "source": [
    "# using sum we get total amount and group by help get group of customer like A, B, C\n",
    "# we use join here because customer_id and price column belog from diff tables\n",
    "# so get them from respective tables and perform respective we use join like sum\n",
    "\n",
    "dd_ss.sql(\"\"\"\n",
    "                select s.customer_id, sum(m.price) as spend_amount from sales_tb s\n",
    "                join menu_tb m using (product_id)\n",
    "                group by s.customer_id\n",
    "                order by spend_amount desc;\n",
    "\"\"\").show()\n",
    "\n",
    "# get the answer/insight refer below table ----------------------------------------------"
   ]
  },
  {
   "cell_type": "markdown",
   "metadata": {
    "application/vnd.databricks.v1+cell": {
     "cellMetadata": {},
     "inputWidgets": {},
     "nuid": "ebf99a65-0ff3-48cd-830d-5eb2a3660ed7",
     "showTitle": false,
     "title": ""
    }
   },
   "source": [
    "## 2. How many days has each customer visited the restaurant?"
   ]
  },
  {
   "cell_type": "code",
   "execution_count": 0,
   "metadata": {
    "application/vnd.databricks.v1+cell": {
     "cellMetadata": {
      "byteLimit": 2048000,
      "rowLimit": 10000
     },
     "inputWidgets": {},
     "nuid": "0145c483-b580-4d6a-87f8-2501ca41af9d",
     "showTitle": false,
     "title": ""
    }
   },
   "outputs": [
    {
     "output_type": "stream",
     "name": "stdout",
     "output_type": "stream",
     "text": [
      "+-----------+-------------+\n|customer_id|visited_count|\n+-----------+-------------+\n|          B|            6|\n|          A|            4|\n|          C|            2|\n+-----------+-------------+\n\n"
     ]
    }
   ],
   "source": [
    "# using count we get total number of days customer visit to restaurant and distinct help us remove dublicate date or same day he visited again\n",
    "# using group by we get group of customer like A, B, C\n",
    "# using order by we sort our output [asc | desc]\n",
    "\n",
    "dd_ss.sql(\"\"\"\n",
    "                select customer_id, count(distinct order_date) as visited_count\n",
    "                from sales_tb\n",
    "                group by customer_id\n",
    "                order by visited_count desc;\n",
    "\"\"\").show()\n",
    "\n",
    "# get the answer/insight refer below table ----------------------------------------------"
   ]
  },
  {
   "cell_type": "markdown",
   "metadata": {
    "application/vnd.databricks.v1+cell": {
     "cellMetadata": {},
     "inputWidgets": {},
     "nuid": "94645aaf-8d80-4ef8-bc62-c46a8e72a4c7",
     "showTitle": false,
     "title": ""
    }
   },
   "source": [
    "## 3. What was the first item from the menu purchased by each customer?"
   ]
  },
  {
   "cell_type": "code",
   "execution_count": 0,
   "metadata": {
    "application/vnd.databricks.v1+cell": {
     "cellMetadata": {
      "byteLimit": 2048000,
      "rowLimit": 10000
     },
     "inputWidgets": {},
     "nuid": "e061678d-d430-41fc-9dd9-e6a0b571ae87",
     "showTitle": false,
     "title": ""
    }
   },
   "outputs": [
    {
     "output_type": "stream",
     "name": "stdout",
     "output_type": "stream",
     "text": [
      "+-----------+----------+------------+\n|customer_id|order_date|product_name|\n+-----------+----------+------------+\n|          A|2021-01-01|       sushi|\n|          A|2021-01-01|       curry|\n|          B|2021-01-01|       curry|\n|          C|2021-01-01|       ramen|\n+-----------+----------+------------+\n\n"
     ]
    }
   ],
   "source": [
    "# here we create a common table expression [ menu ]\n",
    "# using window function we create a dense_rank() column [ menu_rank ] that help as to sort data accordingly our requirement\n",
    "# In query, we simple use menu table and menu_rank to get answer of our question\n",
    "\n",
    "dd_ss.sql(\"\"\"\n",
    "                with menu as (\n",
    "                    select s.customer_id, s.order_date, m.product_name,\n",
    "                    dense_rank() over (partition by s.customer_id order by s.order_date) as menu_rank\n",
    "                    from sales_tb s join menu_tb m using (product_id)\n",
    "                ) \n",
    "                \n",
    "                select customer_id, order_date, product_name\n",
    "                from menu\n",
    "                where menu_rank = 1\n",
    "                group by customer_id, order_date, product_name;\n",
    "\"\"\").show()\n",
    "\n",
    "# get the answer/insight refer below table ----------------------------------------------"
   ]
  }
 ],
 "metadata": {
  "application/vnd.databricks.v1+notebook": {
   "dashboards": [],
   "language": "python",
   "notebookMetadata": {
    "pythonIndentUnit": 4
   },
   "notebookName": "Restaurant_Dannys_Dinner",
   "widgets": {}
  }
 },
 "nbformat": 4,
 "nbformat_minor": 0
}
